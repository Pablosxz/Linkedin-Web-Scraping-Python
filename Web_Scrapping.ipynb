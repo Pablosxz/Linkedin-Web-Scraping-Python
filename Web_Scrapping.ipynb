{
 "cells": [
  {
   "cell_type": "code",
   "execution_count": 1,
   "id": "02207390",
   "metadata": {},
   "outputs": [],
   "source": [
    "import requests as rq\n",
    "from bs4 import BeautifulSoup as bs\n",
    "import csv\n",
    "import json"
   ]
  },
  {
   "cell_type": "code",
   "execution_count": 2,
   "id": "5594f0ed",
   "metadata": {},
   "outputs": [],
   "source": [
    "linkedin_url = \"https://www.linkedin.com/jobs/search\""
   ]
  },
  {
   "cell_type": "code",
   "execution_count": 3,
   "id": "b033bfa2",
   "metadata": {},
   "outputs": [],
   "source": [
    "query_string = {\n",
    "    \"keywords\": \"Desenvolvedor Junior\", #Title\n",
    "    \"location\": \"Brazil\", # Country \n",
    "    \"trk\": \"public_jobs_jobs-search-bar_search-submit\" #Linkedin Tracking\n",
    "}"
   ]
  },
  {
   "cell_type": "code",
   "execution_count": 4,
   "id": "70e55ab5",
   "metadata": {},
   "outputs": [
    {
     "data": {
      "text/plain": [
       "200"
      ]
     },
     "execution_count": 4,
     "metadata": {},
     "output_type": "execute_result"
    }
   ],
   "source": [
    "response = rq.get(linkedin_url, params=query_string) # Accessing the page and verifying the status\n",
    "response.status_code"
   ]
  },
  {
   "cell_type": "code",
   "execution_count": 5,
   "id": "83c99c5d",
   "metadata": {},
   "outputs": [],
   "source": [
    "content = bs(response.content, 'html.parser') # Using BeautifulSoup to convert the HTML page"
   ]
  },
  {
   "cell_type": "code",
   "execution_count": 6,
   "id": "c7841810",
   "metadata": {
    "scrolled": true
   },
   "outputs": [],
   "source": [
    "vacancy_list = content.select(\".jobs-search__results-list li\") # Getting the list of vacancies in the page"
   ]
  },
  {
   "cell_type": "code",
   "execution_count": 7,
   "id": "13c253d2",
   "metadata": {},
   "outputs": [],
   "source": [
    "vacancies_list = []\n",
    "for vacancy in vacancy_list:\n",
    "    title = vacancy.select(\".base-search-card__title\")[0].text.strip() # Title\n",
    "    # obs.: we could use find() instead of select() in some cases.\n",
    "    \n",
    "    company = vacancy.select(\".base-search-card__subtitle\")[0].text.strip() # Subtitle/Company\n",
    "    \n",
    "    location = vacancy.select(\".job-search-card__location\")[0].text.strip() # Location\n",
    "    \n",
    "    url = vacancy.select(\".base-card__full-link\")[0].get('href') # URL\n",
    "    \n",
    "    date = vacancy.select(\"time\")[0].get(\"datetime\") # Date\n",
    "    \n",
    "    # Putting the informations in a dict, so we can add this dict on the Vacancies List\n",
    "    info = {\n",
    "        \"Title\": title,\n",
    "        \"Company\": company,\n",
    "        \"Location\": location,\n",
    "        \"URL\": url,\n",
    "        \"Date\": date\n",
    "    }\n",
    "    vacancies_list.append(info)"
   ]
  },
  {
   "cell_type": "code",
   "execution_count": 8,
   "id": "e0e7456a",
   "metadata": {},
   "outputs": [],
   "source": [
    "vacancies_list_json = json.dumps(vacancies_list) # Putting the list in a text format"
   ]
  },
  {
   "cell_type": "code",
   "execution_count": 9,
   "id": "693db5bc",
   "metadata": {},
   "outputs": [],
   "source": [
    "with open(\"vacancies.json\", \"w\") as json_archive:\n",
    "    json_archive.write(vacancies_list_json) # This way we write the list on a .json archive"
   ]
  },
  {
   "cell_type": "code",
   "execution_count": 10,
   "id": "dd1348dc",
   "metadata": {},
   "outputs": [],
   "source": [
    "# Putting the list in a .csv file\n",
    "with open('vacancies.csv', mode='w') as csv_file:\n",
    "    header = ['Title', 'Company', 'Location', 'URL', 'Date']\n",
    "    generator_csv = csv.DictWriter(csv_file, fieldnames=header)\n",
    "    generator_csv.writeheader()\n",
    "    generator_csv.writerows(vacancies_list)"
   ]
  }
 ],
 "metadata": {
  "kernelspec": {
   "display_name": "Python 3 (ipykernel)",
   "language": "python",
   "name": "python3"
  },
  "language_info": {
   "codemirror_mode": {
    "name": "ipython",
    "version": 3
   },
   "file_extension": ".py",
   "mimetype": "text/x-python",
   "name": "python",
   "nbconvert_exporter": "python",
   "pygments_lexer": "ipython3",
   "version": "3.11.4"
  }
 },
 "nbformat": 4,
 "nbformat_minor": 5
}
